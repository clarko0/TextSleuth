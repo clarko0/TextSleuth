{
 "cells": [
  {
   "cell_type": "code",
   "execution_count": 47,
   "metadata": {},
   "outputs": [],
   "source": [
    "import cv2\n",
    "import os\n",
    "from PIL import Image\n",
    "\n",
    "# Load image\n",
    "image = cv2.imread('10.png', cv2.IMREAD_GRAYSCALE)\n",
    "import matplotlib.pyplot as plt\n",
    "\n",
    "_, binary_image = cv2.threshold(image, 128, 255, cv2.THRESH_BINARY_INV)\n",
    "\n",
    "# Find contours\n",
    "contours, _ = cv2.findContours(binary_image, cv2.RETR_EXTERNAL, cv2.CHAIN_APPROX_SIMPLE)\n",
    "\n",
    "# Loop through contours and isolate characters\n",
    "for index, contour in enumerate(contours):\n",
    "    x, y, w, h = cv2.boundingRect(contour)\n",
    "\n",
    "    isolated_character = binary_image[y:y+h, x:x+w]\n",
    "    isolated_character = cv2.bitwise_not(isolated_character)\n",
    "\n",
    "    path = os.path.join(os.getcwd(), \"temp\", f\"{index}.png\")\n",
    "    cv2.imwrite(path, isolated_character)"
   ]
  },
  {
   "cell_type": "code",
   "execution_count": 48,
   "metadata": {},
   "outputs": [],
   "source": [
    "temp_file = os.path.join(os.getcwd(), \"temp\")\n",
    "\n",
    "files = os.listdir(temp_file)\n",
    "\n",
    "for file_name in files:\n",
    "\n",
    "    file_path = os.path.join(temp_file, file_name)\n",
    "\n",
    "    with Image.open(file_path) as img:\n",
    "\n",
    "        width_percent = 8 / float(img.size[0])\n",
    "        new_height = int((float(img.size[1]) * float(width_percent)))\n",
    "        \n",
    "        # Resize the image\n",
    "        img = img.resize((8, new_height), Image.LANCZOS)\n",
    "        \n",
    "        # Create a new 28x28 image with a white background\n",
    "        new_img = Image.new(\"RGB\", (28, 28), (255, 255, 255))\n",
    "        \n",
    "        # Calculate the position to center the resized image\n",
    "        top_left_x = (28 - img.size[0]) // 2\n",
    "        top_left_y = (28 - img.size[1]) // 2\n",
    "        \n",
    "        # Paste the resized image onto the new white background\n",
    "        new_img.paste(img, (top_left_x, top_left_y))\n",
    "        \n",
    "        # Display or save the new image\n",
    "        new_img.show()  # To display the image\n",
    "        # new_img.save(os.path.join(temp_file, f\"processed_{file_name}\"))  # To save the image"
   ]
  }
 ],
 "metadata": {
  "kernelspec": {
   "display_name": "Python 3",
   "language": "python",
   "name": "python3"
  },
  "language_info": {
   "codemirror_mode": {
    "name": "ipython",
    "version": 3
   },
   "file_extension": ".py",
   "mimetype": "text/x-python",
   "name": "python",
   "nbconvert_exporter": "python",
   "pygments_lexer": "ipython3",
   "version": "3.10.7"
  }
 },
 "nbformat": 4,
 "nbformat_minor": 2
}
