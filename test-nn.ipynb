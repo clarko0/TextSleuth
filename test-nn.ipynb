{
    "cells": [
        {
            "cell_type": "code",
            "execution_count": 1,
            "metadata": {},
            "outputs": [
                {
                    "name": "stderr",
                    "output_type": "stream",
                    "text": [
                        "c:\\Users\\arthu\\AppData\\Local\\Programs\\Python\\Python310\\lib\\site-packages\\tqdm\\auto.py:21: TqdmWarning: IProgress not found. Please update jupyter and ipywidgets. See https://ipywidgets.readthedocs.io/en/stable/user_install.html\n",
                        "  from .autonotebook import tqdm as notebook_tqdm\n"
                    ]
                }
            ],
            "source": [
                "from src.DatasetManager import DatasetManager\n",
                "from src.NeuralNetwork import NeuralNetwork\n",
                "from src.NNService import NNService\n",
                "from OldEngineController import EngineController\n",
                "import cupy as np\n",
                "import matplotlib.pyplot as plt\n",
                "from IPython.display import display, clear_output"
            ]
        },
        {
            "cell_type": "code",
            "execution_count": 2,
            "metadata": {},
            "outputs": [],
            "source": [
                "LEARNING_RATE = 0.1\n",
                "NEURON_COUNT = 64"
            ]
        },
        {
            "cell_type": "code",
            "execution_count": 3,
            "metadata": {},
            "outputs": [],
            "source": [
                "dataset_manager = DatasetManager()\n",
                "neural_network = NeuralNetwork(dataset_manager.training_data, NEURON_COUNT)\n",
                "nn_service = NNService([neural_network], dataset_manager.testing_data)"
            ]
        },
        {
            "cell_type": "code",
            "execution_count": 4,
            "metadata": {},
            "outputs": [
                {
                    "ename": "KeyboardInterrupt",
                    "evalue": "",
                    "output_type": "error",
                    "traceback": [
                        "\u001b[1;31m---------------------------------------------------------------------------\u001b[0m",
                        "\u001b[1;31mKeyboardInterrupt\u001b[0m                         Traceback (most recent call last)",
                        "Cell \u001b[1;32mIn[4], line 1\u001b[0m\n\u001b[1;32m----> 1\u001b[0m engine \u001b[38;5;241m=\u001b[39m \u001b[43mEngineController\u001b[49m\u001b[43m(\u001b[49m\u001b[43mnn_service\u001b[49m\u001b[43m)\u001b[49m\n\u001b[0;32m      3\u001b[0m \u001b[38;5;66;03m# X = dataset_manager.testing_data.X[0:1, :]\u001b[39;00m\n\u001b[0;32m      4\u001b[0m \n\u001b[0;32m      5\u001b[0m \u001b[38;5;66;03m# nn_service.make_predictions(X)\u001b[39;00m\n\u001b[1;32m   (...)\u001b[0m\n\u001b[0;32m     30\u001b[0m \n\u001b[0;32m     31\u001b[0m \u001b[38;5;66;03m#     nn_service.make_predictions(np.asarray([dataset_manager.testing_data.X[0]]))\u001b[39;00m\n",
                        "File \u001b[1;32me:\\OCR-EngineV2\\src\\EngineController.py:66\u001b[0m, in \u001b[0;36mEngineController.__init__\u001b[1;34m(self, nn_service)\u001b[0m\n\u001b[0;32m     63\u001b[0m \u001b[38;5;28mself\u001b[39m\u001b[38;5;241m.\u001b[39mclear_image()\n\u001b[0;32m     64\u001b[0m \u001b[38;5;28mself\u001b[39m\u001b[38;5;241m.\u001b[39mnn_service \u001b[38;5;241m=\u001b[39m nn_service\n\u001b[1;32m---> 66\u001b[0m \u001b[38;5;28;43mself\u001b[39;49m\u001b[38;5;241;43m.\u001b[39;49m\u001b[43mmaster\u001b[49m\u001b[38;5;241;43m.\u001b[39;49m\u001b[43mmainloop\u001b[49m\u001b[43m(\u001b[49m\u001b[43m)\u001b[49m\n",
                        "File \u001b[1;32mc:\\Users\\arthu\\AppData\\Local\\Programs\\Python\\Python310\\lib\\tkinter\\__init__.py:1458\u001b[0m, in \u001b[0;36mMisc.mainloop\u001b[1;34m(self, n)\u001b[0m\n\u001b[0;32m   1456\u001b[0m \u001b[38;5;28;01mdef\u001b[39;00m \u001b[38;5;21mmainloop\u001b[39m(\u001b[38;5;28mself\u001b[39m, n\u001b[38;5;241m=\u001b[39m\u001b[38;5;241m0\u001b[39m):\n\u001b[0;32m   1457\u001b[0m \u001b[38;5;250m    \u001b[39m\u001b[38;5;124;03m\"\"\"Call the mainloop of Tk.\"\"\"\u001b[39;00m\n\u001b[1;32m-> 1458\u001b[0m     \u001b[38;5;28;43mself\u001b[39;49m\u001b[38;5;241;43m.\u001b[39;49m\u001b[43mtk\u001b[49m\u001b[38;5;241;43m.\u001b[39;49m\u001b[43mmainloop\u001b[49m\u001b[43m(\u001b[49m\u001b[43mn\u001b[49m\u001b[43m)\u001b[49m\n",
                        "\u001b[1;31mKeyboardInterrupt\u001b[0m: "
                    ]
                },
                {
                    "ename": "",
                    "evalue": "",
                    "output_type": "error",
                    "traceback": [
                        "\u001b[1;31mThe Kernel crashed while executing code in the current cell or a previous cell. \n",
                        "\u001b[1;31mPlease review the code in the cell(s) to identify a possible cause of the failure. \n",
                        "\u001b[1;31mClick <a href='https://aka.ms/vscodeJupyterKernelCrash'>here</a> for more info. \n",
                        "\u001b[1;31mView Jupyter <a href='command:jupyter.viewOutput'>log</a> for further details."
                    ]
                }
            ],
            "source": [
                "engine = EngineController(nn_service)\n",
                "\n",
                "# X = dataset_manager.testing_data.X[0:1, :]\n",
                "\n",
                "# nn_service.make_predictions(X)\n",
                "\n",
                "# total_epochs = range(1)\n",
                "# training_data_accuracy = []\n",
                "# testing_data_accuracy = []\n",
                "\n",
                "# fig = plt.figure()\n",
                "# ax = fig.add_subplot(1, 1, 1) \n",
                "\n",
                "# for epoch in total_epochs:\n",
                "#     # neural_network.gradient_descent(LEARNING_RATE, 1, True)\n",
                "#     # training_data_accuracy.append(float(neural_network._calculate_current_accuracy()))\n",
                "#     # testing_data_accuracy.append(float(nn_service.calculate_accuracy()))\n",
                "\n",
                "#     # ax.set_xlim(0, epoch)\n",
                "#     # ax.cla()\n",
                "#     # ax.plot(range(epoch + 1), training_data_accuracy, label = \"Training Data\")\n",
                "#     # ax.plot(range(epoch + 1), testing_data_accuracy, label = \"Testing Data\")\n",
                "#     # ax.set_ylabel(\"Accuracy\")\n",
                "#     # ax.set_xlabel(\"Epoch\")\n",
                "#     # ax.legend()\n",
                "#     # display(fig)\n",
                "#     # clear_output(wait = True)\n",
                "\n",
                "#     # nn_service.make_predictions(np.asarray(dataset_manager.testing_data.X[0]))\n",
                "\n",
                "#     nn_service.make_predictions(np.asarray([dataset_manager.testing_data.X[0]]))"
            ]
        },
        {
            "cell_type": "code",
            "execution_count": null,
            "metadata": {},
            "outputs": [
                {
                    "ename": "ValueError",
                    "evalue": "Out shape is mismatched",
                    "output_type": "error",
                    "traceback": [
                        "\u001b[1;31m---------------------------------------------------------------------------\u001b[0m",
                        "\u001b[1;31mValueError\u001b[0m                                Traceback (most recent call last)",
                        "Cell \u001b[1;32mIn[10], line 1\u001b[0m\n\u001b[1;32m----> 1\u001b[0m \u001b[43mnn_service\u001b[49m\u001b[38;5;241;43m.\u001b[39;49m\u001b[43mcalculate_accuracy\u001b[49m\u001b[43m(\u001b[49m\u001b[43m)\u001b[49m\n",
                        "File \u001b[1;32me:\\OCR-EngineV2\\src\\NNService.py:23\u001b[0m, in \u001b[0;36mNNService.calculate_accuracy\u001b[1;34m(self)\u001b[0m\n\u001b[0;32m     22\u001b[0m \u001b[38;5;28;01mdef\u001b[39;00m \u001b[38;5;21mcalculate_accuracy\u001b[39m(\u001b[38;5;28mself\u001b[39m) \u001b[38;5;241m-\u001b[39m\u001b[38;5;241m>\u001b[39m \u001b[38;5;28mfloat\u001b[39m:\n\u001b[1;32m---> 23\u001b[0m     predictions \u001b[38;5;241m=\u001b[39m \u001b[38;5;28;43mself\u001b[39;49m\u001b[38;5;241;43m.\u001b[39;49m\u001b[43mmake_predictions\u001b[49m\u001b[43m(\u001b[49m\u001b[38;5;28;43mself\u001b[39;49m\u001b[38;5;241;43m.\u001b[39;49m\u001b[43mtesting_data\u001b[49m\u001b[38;5;241;43m.\u001b[39;49m\u001b[43mX\u001b[49m\u001b[43m)\u001b[49m\n\u001b[0;32m     24\u001b[0m     \u001b[38;5;28;01mreturn\u001b[39;00m np\u001b[38;5;241m.\u001b[39msum(predictions \u001b[38;5;241m==\u001b[39m \u001b[38;5;28mself\u001b[39m\u001b[38;5;241m.\u001b[39mtesting_data\u001b[38;5;241m.\u001b[39mY) \u001b[38;5;241m/\u001b[39m \u001b[38;5;28mself\u001b[39m\u001b[38;5;241m.\u001b[39mtesting_data\u001b[38;5;241m.\u001b[39mY\u001b[38;5;241m.\u001b[39msize\n",
                        "File \u001b[1;32me:\\OCR-EngineV2\\src\\NNService.py:18\u001b[0m, in \u001b[0;36mNNService.make_predictions\u001b[1;34m(self, X)\u001b[0m\n\u001b[0;32m     16\u001b[0m \u001b[38;5;28;01mfor\u001b[39;00m neural_network \u001b[38;5;129;01min\u001b[39;00m \u001b[38;5;28mself\u001b[39m\u001b[38;5;241m.\u001b[39mneural_networks:\n\u001b[0;32m     17\u001b[0m     prop_result \u001b[38;5;241m=\u001b[39m neural_network\u001b[38;5;241m.\u001b[39mpropagate_forwards(X)\u001b[38;5;241m.\u001b[39mA3\n\u001b[1;32m---> 18\u001b[0m     results \u001b[38;5;241m+\u001b[39m\u001b[38;5;241m=\u001b[39m prop_result\n\u001b[0;32m     20\u001b[0m \u001b[38;5;28;01mreturn\u001b[39;00m np\u001b[38;5;241m.\u001b[39margmax(results, \u001b[38;5;241m0\u001b[39m)\n",
                        "File \u001b[1;32mcupy\\_core\\core.pyx:1387\u001b[0m, in \u001b[0;36mcupy._core.core._ndarray_base.__iadd__\u001b[1;34m()\u001b[0m\n",
                        "File \u001b[1;32mcupy\\_core\\_kernel.pyx:1350\u001b[0m, in \u001b[0;36mcupy._core._kernel.ufunc.__call__\u001b[1;34m()\u001b[0m\n",
                        "File \u001b[1;32mcupy\\_core\\_kernel.pyx:654\u001b[0m, in \u001b[0;36mcupy._core._kernel._get_out_args_from_optionals\u001b[1;34m()\u001b[0m\n",
                        "\u001b[1;31mValueError\u001b[0m: Out shape is mismatched"
                    ]
                }
            ],
            "source": [
                "nn_service.calculate_accuracy()"
            ]
        },
        {
            "cell_type": "code",
            "execution_count": null,
            "metadata": {},
            "outputs": [],
            "source": [
                "len(testing_data_accuracy)"
            ]
        },
        {
            "cell_type": "code",
            "execution_count": null,
            "metadata": {},
            "outputs": [],
            "source": [
                "app = EngineController(nn_service)"
            ]
        }
    ],
    "metadata": {
        "kernelspec": {
            "display_name": "Python 3",
            "language": "python",
            "name": "python3"
        },
        "language_info": {
            "codemirror_mode": {
                "name": "ipython",
                "version": 3
            },
            "file_extension": ".py",
            "mimetype": "text/x-python",
            "name": "python",
            "nbconvert_exporter": "python",
            "pygments_lexer": "ipython3",
            "version": "3.10.7"
        }
    },
    "nbformat": 4,
    "nbformat_minor": 2
}
